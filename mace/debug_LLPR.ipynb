{
 "cells": [
  {
   "cell_type": "code",
   "execution_count": null,
   "metadata": {},
   "outputs": [],
   "source": [
    "import numpy as np\n",
    "import torch\n",
    "import torch.nn.functional\n",
    "from e3nn import o3\n",
    "from e3nn.util import jit\n",
    "from scipy.spatial.transform import Rotation as R\n",
    "from mace import data, modules, tools\n",
    "from mace.tools import torch_geometric\n",
    "torch.set_default_dtype(torch.float64)\n",
    "config = data.Configuration(\n",
    "    atomic_numbers=np.array([8, 4, 1]),\n",
    "    positions=np.array(\n",
    "        [\n",
    "            [0.0, -2.0, 0.0],\n",
    "            [1.0, 0.0, 0.0],\n",
    "            [0.0, 1.0, 0.0],\n",
    "        ]\n",
    "    ),\n",
    "    forces=np.array(\n",
    "        [\n",
    "            [0.0, -1.3, 0.0],\n",
    "            [1.0, 0.2, 0.0],\n",
    "            [0.0, 1.1, 0.3],\n",
    "        ]\n",
    "    ),\n",
    "    cell=np.array(\n",
    "        [\n",
    "            [10.0, -1.3, 0.0],\n",
    "            [1.0, 10.2, 0.0],\n",
    "            [0.0, 1.1, 10.3],\n",
    "        ]\n",
    "    ),\n",
    "    stress=np.array(\n",
    "        [\n",
    "            [2, 3, 4],\n",
    "            [2, 1, 9],\n",
    "            [0.1, 2, 1],\n",
    "        ]\n",
    "    ),\n",
    "    energy=-1.5,\n",
    "    charges=np.array([-2.0, 1.0, 1.0]),\n",
    "    dipole=np.array([-1.5, 1.5, 2.0]),\n",
    ")\n",
    "# Created the rotated environment\n",
    "rot = R.from_euler(\"z\", 60, degrees=True).as_matrix()\n",
    "positions_rotated = np.array(rot @ config.positions.T).T\n",
    "config_rotated = data.Configuration(\n",
    "    atomic_numbers=np.array([8, 4, 1]),\n",
    "    positions=positions_rotated,\n",
    "    forces=np.array(\n",
    "        [\n",
    "            [0.0, -1.3, 0.0],\n",
    "            [1.0, 0.2, 0.0],\n",
    "            [0.0, 1.1, 0.3],\n",
    "        ]\n",
    "    ),\n",
    "    energy=-1.5,\n",
    "    charges=np.array([-2.0, 1.0, 1.0]),\n",
    "    dipole=np.array([-1.5, 1.5, 2.0]),\n",
    "    cell=np.array(\n",
    "        [\n",
    "            [10.0, -1.3, 0.0],\n",
    "            [1.0, 10.2, 0.0],\n",
    "            [0.0, 1.1, 10.3],\n",
    "        ]\n",
    "    ),\n",
    "    stress=np.array(\n",
    "        [\n",
    "            [2, 3, 4],\n",
    "            [2, 1, 9],\n",
    "            [0.1, 2, 1],\n",
    "        ]\n",
    "    ),    \n",
    ")\n",
    "table = tools.AtomicNumberTable([1, 4, 8])\n",
    "atomic_energies = np.array([1.0, 3.0, 4.0], dtype=float)\n",
    "\n",
    "\n"
   ]
  },
  {
   "cell_type": "code",
   "execution_count": null,
   "metadata": {},
   "outputs": [],
   "source": [
    "\n",
    "model_config = dict(\n",
    "    r_max=5,\n",
    "    num_bessel=8,\n",
    "    num_polynomial_cutoff=6,\n",
    "    max_ell=2,\n",
    "    interaction_cls=modules.interaction_classes[\n",
    "        \"RealAgnosticResidualInteractionBlock\"\n",
    "    ],\n",
    "    interaction_cls_first=modules.interaction_classes[\n",
    "        \"RealAgnosticResidualInteractionBlock\"\n",
    "    ],\n",
    "    num_interactions=5,\n",
    "    num_elements=3,\n",
    "    hidden_irreps=o3.Irreps(\"32x0e + 32x1o\"),\n",
    "    MLP_irreps=o3.Irreps(\"16x0e\"),\n",
    "    gate=torch.nn.functional.silu,\n",
    "    atomic_energies=atomic_energies,\n",
    "    avg_num_neighbors=8,\n",
    "    atomic_numbers=table.zs,\n",
    "    correlation=3,\n",
    "    radial_type=\"bessel\",\n",
    ")\n",
    "model = modules.MACE(**model_config)\n",
    "model_compiled = jit.compile(model)\n",
    "atomic_data = data.AtomicData.from_config(config, z_table=table, cutoff=3.0)\n",
    "atomic_data2 = data.AtomicData.from_config(\n",
    "    config_rotated, z_table=table, cutoff=3.0\n",
    ")\n",
    "data_loader = torch_geometric.dataloader.DataLoader(\n",
    "    dataset=[atomic_data, atomic_data2],\n",
    "    batch_size=2,\n",
    "    shuffle=True,\n",
    "    drop_last=False,\n",
    ")\n",
    "batch = next(iter(data_loader))\n",
    "output1 = model(batch.to_dict(), training=True)\n",
    "output2 = model_compiled(batch.to_dict(), training=True)\n",
    "assert torch.allclose(output1[\"energy\"][0], output2[\"energy\"][0])\n",
    "assert torch.allclose(output2[\"energy\"][0], output2[\"energy\"][1])"
   ]
  },
  {
   "cell_type": "code",
   "execution_count": null,
   "metadata": {},
   "outputs": [],
   "source": [
    "llpr_model_from_noncompiled = modules.models.LLPredRigidityMACE(model, ll_feat_format=\"avg\")\n",
    "llpr_model_from_compiled = modules.models.LLPredRigidityMACE(model_compiled, ll_feat_format=\"avg\")"
   ]
  },
  {
   "cell_type": "code",
   "execution_count": null,
   "metadata": {},
   "outputs": [],
   "source": [
    "llpr_model_from_noncompiled(batch.to_dict())\n",
    "llpr_model_from_compiled(batch.to_dict())"
   ]
  },
  {
   "cell_type": "code",
   "execution_count": null,
   "metadata": {},
   "outputs": [],
   "source": [
    "llpr_model_from_noncompiled.hidden_sizes"
   ]
  },
  {
   "cell_type": "code",
   "execution_count": null,
   "metadata": {},
   "outputs": [],
   "source": [
    "llpr_compiled = jit.compile(llpr_model_from_noncompiled)\n",
    "llpr_compiled(batch.to_dict())"
   ]
  },
  {
   "cell_type": "code",
   "execution_count": null,
   "metadata": {},
   "outputs": [],
   "source": [
    "llpr_compiled = jit.compile(llpr_model_from_compiled)\n",
    "llpr_compiled(batch.to_dict())"
   ]
  },
  {
   "cell_type": "code",
   "execution_count": null,
   "metadata": {},
   "outputs": [],
   "source": [
    "from modules.llpr import calibrate_llpr_params\n",
    "llpr_model_from_compiled.compute_covariance(data_loader)\n",
    "calibrate_llpr_params(llpr_model_from_compiled, data_loader, function=\"nll\")"
   ]
  },
  {
   "cell_type": "code",
   "execution_count": null,
   "metadata": {},
   "outputs": [],
   "source": [
    "calibrate_llpr_params(llpr_model_from_compiled, data_loader, function=\"ssl\")"
   ]
  },
  {
   "cell_type": "code",
   "execution_count": null,
   "metadata": {},
   "outputs": [],
   "source": [
    "llpr_model_from_noncompiled.compute_covariance(data_loader)"
   ]
  },
  {
   "cell_type": "code",
   "execution_count": null,
   "metadata": {},
   "outputs": [],
   "source": [
    "llpr_model_from_noncompiled.add_gradients_to_covariance(data_loader, training=True, compute_stress=True)"
   ]
  },
  {
   "cell_type": "code",
   "execution_count": null,
   "metadata": {},
   "outputs": [],
   "source": [
    "llpr_model_from_noncompiled.reset_matrices()"
   ]
  },
  {
   "cell_type": "code",
   "execution_count": null,
   "metadata": {},
   "outputs": [],
   "source": [
    "fmodel_1 = torch.load('calculators/foundations_models/2023-12-03-mace-mp.model')\n",
    "#fmodel_2 = torch.load('calculators/foundations_models/ani500k_large_CC.model')\n",
    "\n",
    "llpr_fmodel_1 = modules.LLPRScaleShiftMACE(fmodel_1)\n",
    "#llpr_fmodel_2 = modules.LLPRScaleShiftMACE(fmodel_2)"
   ]
  },
  {
   "cell_type": "code",
   "execution_count": null,
   "metadata": {},
   "outputs": [],
   "source": []
  },
  {
   "cell_type": "code",
   "execution_count": null,
   "metadata": {},
   "outputs": [],
   "source": []
  }
 ],
 "metadata": {
  "kernelspec": {
   "display_name": "mace",
   "language": "python",
   "name": "python3"
  },
  "language_info": {
   "codemirror_mode": {
    "name": "ipython",
    "version": 3
   },
   "file_extension": ".py",
   "mimetype": "text/x-python",
   "name": "python",
   "nbconvert_exporter": "python",
   "pygments_lexer": "ipython3",
   "version": "3.12.2"
  }
 },
 "nbformat": 4,
 "nbformat_minor": 2
}
